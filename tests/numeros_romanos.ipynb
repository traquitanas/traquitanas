{
 "cells": [
  {
   "cell_type": "markdown",
   "id": "51e9ec3b-8eb0-4917-bc51-dab7621a4624",
   "metadata": {},
   "source": [
    "<br>\n",
    "\n",
    "# Números Romanos"
   ]
  },
  {
   "cell_type": "markdown",
   "id": "3b8e9fb9-dadf-41ae-bb48-c6ce64863439",
   "metadata": {},
   "source": [
    "<br>\n",
    "\n",
    "## Inteiro para Romano\n",
    "\n",
    "https://www.w3resource.com/python-exercises/class-exercises/python-class-exercise-1.php"
   ]
  },
  {
   "cell_type": "code",
   "execution_count": null,
   "id": "1ef193f3-39c4-49e5-bbc8-4cd6391ebca7",
   "metadata": {},
   "outputs": [],
   "source": [
    "def int_to_roman(num):\n",
    "    lookup = [\n",
    "        (1000, 'M'),\n",
    "        (900 , 'CM'),\n",
    "        (500 , 'D'),\n",
    "        (400 , 'CD'),\n",
    "        (100 , 'C'),\n",
    "        (90  , 'XC'),\n",
    "        (50  , 'L'),\n",
    "        (40  , 'XL'),\n",
    "        (10  , 'X'),\n",
    "        (9   , 'IX'),\n",
    "        (5   , 'V'),\n",
    "        (4   , 'IV'),\n",
    "        (1   , 'I'),\n",
    "    ]\n",
    "    res = ''\n",
    "    for (n, roman) in lookup:\n",
    "        (d, num) = divmod(num, n)\n",
    "        res += roman * d\n",
    "    return res"
   ]
  },
  {
   "cell_type": "code",
   "execution_count": null,
   "id": "a28d2780-c820-414a-8ab7-de3a0e2595b7",
   "metadata": {},
   "outputs": [],
   "source": [
    "int_to_roman(1)"
   ]
  },
  {
   "cell_type": "code",
   "execution_count": null,
   "id": "c4ff2070-f4ae-4ec3-934a-1ba02ea1a136",
   "metadata": {},
   "outputs": [],
   "source": [
    "int_to_roman(156)"
   ]
  },
  {
   "cell_type": "markdown",
   "id": "44876fba-8a89-4658-a85d-2fabad9d0c8d",
   "metadata": {},
   "source": [
    "<br>\n",
    "\n",
    "## Romano para Inteiro\n",
    "\n",
    "https://www.tutorialspoint.com/roman-to-integer-in-python"
   ]
  },
  {
   "cell_type": "code",
   "execution_count": null,
   "id": "9cda6417-c01d-4f0f-bac9-e7ff44f25ab1",
   "metadata": {},
   "outputs": [],
   "source": [
    "def roman_to_int(s):\n",
    "    \"\"\"    \n",
    "    :type s: str\n",
    "    :rtype: int\n",
    "    \"\"\"\n",
    "    roman = {\n",
    "        'I':1,\n",
    "        'V':5,\n",
    "        'X':10,\n",
    "        'L':50,\n",
    "        'C':100,\n",
    "        'D':500,\n",
    "        'M':1000,\n",
    "        'IV':4,\n",
    "        'IX':9,\n",
    "        'XL':40,\n",
    "        'XC':90,\n",
    "        'CD':400,\n",
    "        'CM':900\n",
    "    }\n",
    "    \n",
    "    i = 0\n",
    "    num = 0\n",
    "    while i < len(s):\n",
    "        if i+1<len(s) and s[i:i+2] in roman:\n",
    "            num+=roman[s[i:i+2]]\n",
    "            i+=2\n",
    "        else:\n",
    "            #print(i)\n",
    "            num+=roman[s[i]]\n",
    "            i+=1\n",
    "    return num"
   ]
  },
  {
   "cell_type": "code",
   "execution_count": null,
   "id": "e6196d75-5e1f-4f5d-89f8-8b47712edee8",
   "metadata": {},
   "outputs": [],
   "source": [
    "roman_to_int('III')"
   ]
  },
  {
   "cell_type": "code",
   "execution_count": null,
   "id": "aa450287-5052-4d41-8e40-9d4e6d6ec9f2",
   "metadata": {},
   "outputs": [],
   "source": [
    "roman_to_int('CDXLIII')"
   ]
  },
  {
   "cell_type": "code",
   "execution_count": null,
   "id": "c1629794-54d0-485b-9706-07ea37c0cbcf",
   "metadata": {},
   "outputs": [],
   "source": []
  }
 ],
 "metadata": {
  "kernelspec": {
   "display_name": "Python [conda env:pablocarreira-py38] *",
   "language": "python",
   "name": "conda-env-pablocarreira-py38-py"
  },
  "language_info": {
   "codemirror_mode": {
    "name": "ipython",
    "version": 3
   },
   "file_extension": ".py",
   "mimetype": "text/x-python",
   "name": "python",
   "nbconvert_exporter": "python",
   "pygments_lexer": "ipython3",
   "version": "3.8.10"
  }
 },
 "nbformat": 4,
 "nbformat_minor": 5
}
