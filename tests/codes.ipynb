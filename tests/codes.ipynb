{
 "cells": [
  {
   "cell_type": "code",
   "execution_count": 1,
   "source": [
    "!python3 -m pip install --upgrade build"
   ],
   "outputs": [
    {
     "name": "stdout",
     "output_type": "stream",
     "text": [
      "Collecting build\r\n",
      "  Using cached build-0.7.0-py3-none-any.whl (16 kB)\r\n",
      "Requirement already satisfied: packaging>=19.0 in /home/michel/Codes/conda/envs/pablocarreira-py39/lib/python3.9/site-packages (from build) (21.0)\r\n",
      "Requirement already satisfied: tomli>=1.0.0 in /home/michel/Codes/conda/envs/pablocarreira-py39/lib/python3.9/site-packages (from build) (1.2.1)\r\n",
      "Collecting pep517>=0.9.1\r\n",
      "  Downloading pep517-0.12.0-py2.py3-none-any.whl (19 kB)\r\n",
      "Requirement already satisfied: pyparsing>=2.0.2 in /home/michel/Codes/conda/envs/pablocarreira-py39/lib/python3.9/site-packages (from packaging>=19.0->build) (2.4.7)\r\n",
      "Installing collected packages: pep517, build\r\n",
      "Successfully installed build-0.7.0 pep517-0.12.0\r\n"
     ]
    }
   ],
   "metadata": {}
  },
  {
   "cell_type": "code",
   "execution_count": null,
   "source": [
    "!python3 -m build .."
   ],
   "outputs": [
    {
     "name": "stdout",
     "output_type": "stream",
     "text": [
      "\u001B[1m* Creating venv isolated environment...\u001B[0m\r\n",
      "\u001B[1m* Installing packages in isolated environment... (setuptools >= 40.8.0, wheel)\u001B[0m\r\n",
      "\u001B[1m* Getting dependencies for sdist...\u001B[0m\r\n",
      "running egg_info\r\n",
      "creating src/traquitanas.egg-info\r\n",
      "writing src/traquitanas.egg-info/PKG-INFO\r\n",
      "writing dependency_links to src/traquitanas.egg-info/dependency_links.txt\r\n",
      "writing requirements to src/traquitanas.egg-info/requires.txt\r\n",
      "writing top-level names to src/traquitanas.egg-info/top_level.txt\r\n",
      "writing manifest file 'src/traquitanas.egg-info/SOURCES.txt'\r\n",
      "reading manifest file 'src/traquitanas.egg-info/SOURCES.txt'\r\n",
      "adding license file 'LICENSE'\r\n",
      "writing manifest file 'src/traquitanas.egg-info/SOURCES.txt'\r\n",
      "\u001B[1m* Building sdist...\u001B[0m\r\n",
      "running sdist\r\n",
      "running egg_info\r\n",
      "writing src/traquitanas.egg-info/PKG-INFO\r\n",
      "writing dependency_links to src/traquitanas.egg-info/dependency_links.txt\r\n",
      "writing requirements to src/traquitanas.egg-info/requires.txt\r\n",
      "writing top-level names to src/traquitanas.egg-info/top_level.txt\r\n",
      "reading manifest file 'src/traquitanas.egg-info/SOURCES.txt'\r\n",
      "adding license file 'LICENSE'\r\n",
      "writing manifest file 'src/traquitanas.egg-info/SOURCES.txt'\r\n",
      "running check\r\n",
      "creating traquitanas-1.0.17\r\n",
      "creating traquitanas-1.0.17/src\r\n",
      "creating traquitanas-1.0.17/src/traquitanas\r\n",
      "creating traquitanas-1.0.17/src/traquitanas.egg-info\r\n",
      "creating traquitanas-1.0.17/src/traquitanas/geo\r\n",
      "creating traquitanas-1.0.17/src/traquitanas/net\r\n",
      "creating traquitanas-1.0.17/src/traquitanas/numbers\r\n",
      "copying files to traquitanas-1.0.17...\r\n",
      "copying LICENSE -> traquitanas-1.0.17\r\n",
      "copying README.md -> traquitanas-1.0.17\r\n",
      "copying setup.py -> traquitanas-1.0.17\r\n",
      "copying src/traquitanas/__init__.py -> traquitanas-1.0.17/src/traquitanas\r\n",
      "copying src/traquitanas/utils.py -> traquitanas-1.0.17/src/traquitanas\r\n",
      "copying src/traquitanas.egg-info/PKG-INFO -> traquitanas-1.0.17/src/traquitanas.egg-info\r\n",
      "copying src/traquitanas.egg-info/SOURCES.txt -> traquitanas-1.0.17/src/traquitanas.egg-info\r\n",
      "copying src/traquitanas.egg-info/dependency_links.txt -> traquitanas-1.0.17/src/traquitanas.egg-info\r\n",
      "copying src/traquitanas.egg-info/requires.txt -> traquitanas-1.0.17/src/traquitanas.egg-info\r\n",
      "copying src/traquitanas.egg-info/top_level.txt -> traquitanas-1.0.17/src/traquitanas.egg-info\r\n",
      "copying src/traquitanas/geo/__init__.py -> traquitanas-1.0.17/src/traquitanas/geo\r\n",
      "copying src/traquitanas/geo/converts.py -> traquitanas-1.0.17/src/traquitanas/geo\r\n",
      "copying src/traquitanas/net/__init__.py -> traquitanas-1.0.17/src/traquitanas/net\r\n",
      "copying src/traquitanas/net/downloads.py -> traquitanas-1.0.17/src/traquitanas/net\r\n",
      "copying src/traquitanas/net/ssss.py -> traquitanas-1.0.17/src/traquitanas/net\r\n",
      "copying src/traquitanas/numbers/__init__.py -> traquitanas-1.0.17/src/traquitanas/numbers\r\n",
      "copying src/traquitanas/numbers/numbers.py -> traquitanas-1.0.17/src/traquitanas/numbers\r\n",
      "Writing traquitanas-1.0.17/setup.cfg\r\n",
      "Creating tar archive\r\n",
      "removing 'traquitanas-1.0.17' (and everything under it)\r\n",
      "\u001B[1m* Building wheel from sdist\u001B[0m\r\n",
      "\u001B[1m* Creating venv isolated environment...\u001B[0m\r\n",
      "\u001B[1m* Installing packages in isolated environment... (setuptools >= 40.8.0, wheel)\u001B[0m\r\n"
     ]
    }
   ],
   "metadata": {
    "pycharm": {
     "is_executing": true
    }
   }
  },
  {
   "cell_type": "code",
   "execution_count": null,
   "source": [
    "!pip install ../dist/traquitanas*.tar.gz"
   ],
   "outputs": [],
   "metadata": {
    "pycharm": {
     "is_executing": true
    }
   }
  },
  {
   "cell_type": "code",
   "execution_count": null,
   "source": [
    "!pip uninstall -y traquitanas"
   ],
   "outputs": [],
   "metadata": {
    "pycharm": {
     "is_executing": true
    }
   }
  },
  {
   "cell_type": "code",
   "execution_count": null,
   "outputs": [],
   "source": [
    "!pip install traquitanas"
   ],
   "metadata": {
    "collapsed": false,
    "pycharm": {
     "name": "#%%\n"
    }
   }
  },
  {
   "cell_type": "code",
   "execution_count": 13,
   "source": [
    "# Imports Locais\n",
    "from src.traquitanas.geo import converts\n",
    "from src.traquitanas import numbers"
   ],
   "outputs": [],
   "metadata": {}
  },
  {
   "cell_type": "code",
   "execution_count": 15,
   "source": [
    "# Imports do Pacote\n",
    "from traquitanas.geo import converts"
   ],
   "outputs": [],
   "metadata": {}
  },
  {
   "cell_type": "code",
   "execution_count": null,
   "source": [],
   "outputs": [],
   "metadata": {}
  }
 ],
 "metadata": {
  "celltoolbar": "Tags",
  "interpreter": {
   "hash": "d4181b5ba52a8e4a66a816197e9f0b08db8a6f69ae1df649a595f0f30665110e"
  },
  "kernelspec": {
   "name": "python3",
   "language": "python",
   "display_name": "Python 3 (ipykernel)"
  },
  "language_info": {
   "codemirror_mode": {
    "name": "ipython",
    "version": 3
   },
   "file_extension": ".py",
   "mimetype": "text/x-python",
   "name": "python",
   "nbconvert_exporter": "python",
   "pygments_lexer": "ipython3",
   "version": "3.8.12"
  },
  "toc": {
   "base_numbering": 1,
   "nav_menu": {},
   "number_sections": true,
   "sideBar": true,
   "skip_h1_title": false,
   "title_cell": "Table of Contents",
   "title_sidebar": "Contents",
   "toc_cell": false,
   "toc_position": {
    "height": "calc(100% - 180px)",
    "left": "10px",
    "top": "150px",
    "width": "373.6px"
   },
   "toc_section_display": true,
   "toc_window_display": true
  },
  "pycharm": {
   "stem_cell": {
    "cell_type": "raw",
    "source": [
     "\n"
    ],
    "metadata": {
     "collapsed": false
    }
   }
  }
 },
 "nbformat": 4,
 "nbformat_minor": 4
}