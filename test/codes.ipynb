{
 "cells": [
  {
   "cell_type": "markdown",
   "source": [
    "<br>\n",
    "\n",
    "# Introdução"
   ],
   "metadata": {
    "collapsed": false,
    "pycharm": {
     "name": "#%% md\n"
    }
   }
  },
  {
   "cell_type": "markdown",
   "source": [
    "<br>\n",
    "\n",
    "## Install Locals"
   ],
   "metadata": {
    "collapsed": false
   }
  },
  {
   "cell_type": "code",
   "execution_count": null,
   "metadata": {},
   "outputs": [],
   "source": [
    "!pip install ../dist/traquitanas*.tar.gz"
   ]
  },
  {
   "cell_type": "markdown",
   "source": [
    "<br>\n",
    "\n",
    "## Install PyPi"
   ],
   "metadata": {
    "collapsed": false
   }
  },
  {
   "cell_type": "code",
   "execution_count": 1,
   "metadata": {},
   "outputs": [],
   "source": [
    "#!pip3 uninstall -y traquitanas\n",
    "#!pip3 install pycep_correios --upgrade"
   ]
  },
  {
   "cell_type": "code",
   "execution_count": 2,
   "metadata": {},
   "outputs": [
    {
     "name": "stdout",
     "output_type": "stream",
     "text": [
      "Requirement already satisfied: traquitanas in /home/michel/Codes/open_traquitanas/traquitanas/src (1.0.19)\r\n",
      "Collecting traquitanas\r\n",
      "  Using cached traquitanas-1.0.21-py3-none-any.whl (10 kB)\r\n",
      "Requirement already satisfied: setuptools>=58.2.0 in /home/michel/Documents/Conda/envs/pablocarreira-py39/lib/python3.9/site-packages (from traquitanas) (59.2.0)\r\n",
      "Requirement already satisfied: chardet>=4.0.0 in /home/michel/Documents/Conda/envs/pablocarreira-py39/lib/python3.9/site-packages (from traquitanas) (4.0.0)\r\n",
      "Requirement already satisfied: tqdm>=4.62.3 in /home/michel/Documents/Conda/envs/pablocarreira-py39/lib/python3.9/site-packages (from traquitanas) (4.62.3)\r\n",
      "Requirement already satisfied: pycep-correios>=5.0.0 in /home/michel/Documents/Conda/envs/pablocarreira-py39/lib/python3.9/site-packages (from traquitanas) (5.0.0)\r\n",
      "Requirement already satisfied: folium>=0.12.0 in /home/michel/Documents/Conda/envs/pablocarreira-py39/lib/python3.9/site-packages (from traquitanas) (0.12.1.post1)\r\n",
      "Requirement already satisfied: requests>=2.26.0 in /home/michel/Documents/Conda/envs/pablocarreira-py39/lib/python3.9/site-packages (from traquitanas) (2.26.0)\r\n",
      "Requirement already satisfied: numpy in /home/michel/Documents/Conda/envs/pablocarreira-py39/lib/python3.9/site-packages (from folium>=0.12.0->traquitanas) (1.21.4)\r\n",
      "Requirement already satisfied: branca>=0.3.0 in /home/michel/Documents/Conda/envs/pablocarreira-py39/lib/python3.9/site-packages (from folium>=0.12.0->traquitanas) (0.4.2)\r\n",
      "Requirement already satisfied: jinja2>=2.9 in /home/michel/Documents/Conda/envs/pablocarreira-py39/lib/python3.9/site-packages (from folium>=0.12.0->traquitanas) (2.11.2)\r\n",
      "Requirement already satisfied: zeep>=2.0.0 in /home/michel/Documents/Conda/envs/pablocarreira-py39/lib/python3.9/site-packages (from pycep-correios>=5.0.0->traquitanas) (4.1.0)\r\n",
      "Requirement already satisfied: idna<4,>=2.5 in /home/michel/Documents/Conda/envs/pablocarreira-py39/lib/python3.9/site-packages (from requests>=2.26.0->traquitanas) (3.1)\r\n",
      "Requirement already satisfied: certifi>=2017.4.17 in /home/michel/Documents/Conda/envs/pablocarreira-py39/lib/python3.9/site-packages (from requests>=2.26.0->traquitanas) (2021.10.8)\r\n",
      "Requirement already satisfied: charset-normalizer~=2.0.0 in /home/michel/Documents/Conda/envs/pablocarreira-py39/lib/python3.9/site-packages (from requests>=2.26.0->traquitanas) (2.0.8)\r\n",
      "Requirement already satisfied: urllib3<1.27,>=1.21.1 in /home/michel/Documents/Conda/envs/pablocarreira-py39/lib/python3.9/site-packages (from requests>=2.26.0->traquitanas) (1.26.7)\r\n",
      "Requirement already satisfied: MarkupSafe>=0.23 in /home/michel/Documents/Conda/envs/pablocarreira-py39/lib/python3.9/site-packages (from jinja2>=2.9->folium>=0.12.0->traquitanas) (2.0.1)\r\n",
      "Requirement already satisfied: platformdirs>=1.4.0 in /home/michel/Documents/Conda/envs/pablocarreira-py39/lib/python3.9/site-packages (from zeep>=2.0.0->pycep-correios>=5.0.0->traquitanas) (2.3.0)\r\n",
      "Requirement already satisfied: requests-file>=1.5.1 in /home/michel/Documents/Conda/envs/pablocarreira-py39/lib/python3.9/site-packages (from zeep>=2.0.0->pycep-correios>=5.0.0->traquitanas) (1.5.1)\r\n",
      "Requirement already satisfied: requests-toolbelt>=0.7.1 in /home/michel/Documents/Conda/envs/pablocarreira-py39/lib/python3.9/site-packages (from zeep>=2.0.0->pycep-correios>=5.0.0->traquitanas) (0.9.1)\r\n",
      "Requirement already satisfied: isodate>=0.5.4 in /home/michel/Documents/Conda/envs/pablocarreira-py39/lib/python3.9/site-packages (from zeep>=2.0.0->pycep-correios>=5.0.0->traquitanas) (0.6.0)\r\n",
      "Requirement already satisfied: pytz in /home/michel/Documents/Conda/envs/pablocarreira-py39/lib/python3.9/site-packages (from zeep>=2.0.0->pycep-correios>=5.0.0->traquitanas) (2021.3)\r\n",
      "Requirement already satisfied: attrs>=17.2.0 in /home/michel/Documents/Conda/envs/pablocarreira-py39/lib/python3.9/site-packages (from zeep>=2.0.0->pycep-correios>=5.0.0->traquitanas) (21.2.0)\r\n",
      "Requirement already satisfied: cached-property>=1.3.0 in /home/michel/Documents/Conda/envs/pablocarreira-py39/lib/python3.9/site-packages (from zeep>=2.0.0->pycep-correios>=5.0.0->traquitanas) (1.5.2)\r\n",
      "Requirement already satisfied: lxml>=4.6.0 in /home/michel/Documents/Conda/envs/pablocarreira-py39/lib/python3.9/site-packages (from zeep>=2.0.0->pycep-correios>=5.0.0->traquitanas) (4.6.4)\r\n",
      "Requirement already satisfied: six in /home/michel/Documents/Conda/envs/pablocarreira-py39/lib/python3.9/site-packages (from isodate>=0.5.4->zeep>=2.0.0->pycep-correios>=5.0.0->traquitanas) (1.16.0)\r\n",
      "Installing collected packages: traquitanas\r\n",
      "  Attempting uninstall: traquitanas\r\n",
      "    Found existing installation: traquitanas 1.0.19\r\n",
      "    Can't uninstall 'traquitanas'. No files were found to uninstall.\r\n",
      "Successfully installed traquitanas-1.0.21\r\n"
     ]
    }
   ],
   "source": [
    "# Install / Upgrade from PyPi\n",
    "!pip3 install traquitanas --upgrade"
   ]
  },
  {
   "cell_type": "markdown",
   "source": [
    "<br>\n",
    "\n",
    "## Import Locals"
   ],
   "metadata": {
    "collapsed": false
   }
  },
  {
   "cell_type": "code",
   "execution_count": 21,
   "outputs": [],
   "source": [
    "# Imports Locais\n",
    "#from src.traquitanas.geo import converts\n",
    "#from src.traquitanas import numbers"
   ],
   "metadata": {
    "collapsed": false,
    "pycharm": {
     "name": "#%%\n"
    }
   }
  },
  {
   "cell_type": "markdown",
   "source": [
    "<br>\n",
    "\n",
    "## Import PyPi"
   ],
   "metadata": {
    "collapsed": false
   }
  },
  {
   "cell_type": "code",
   "execution_count": 3,
   "outputs": [],
   "source": [
    "#from traquitanas.geo import converts\n",
    "from traquitanas import geo"
   ],
   "metadata": {
    "collapsed": false,
    "pycharm": {
     "name": "#%%\n"
    }
   }
  },
  {
   "cell_type": "code",
   "execution_count": 4,
   "outputs": [
    {
     "ename": "AttributeError",
     "evalue": "module 'traquitanas.geo' has no attribute 'converts'",
     "output_type": "error",
     "traceback": [
      "\u001B[0;31m---------------------------------------------------------------------------\u001B[0m",
      "\u001B[0;31mAttributeError\u001B[0m                            Traceback (most recent call last)",
      "\u001B[0;32m/tmp/ipykernel_41936/3688452487.py\u001B[0m in \u001B[0;36m<module>\u001B[0;34m\u001B[0m\n\u001B[0;32m----> 1\u001B[0;31m \u001B[0mgeo\u001B[0m\u001B[0;34m.\u001B[0m\u001B[0mconverts\u001B[0m\u001B[0;34m.\u001B[0m\u001B[0mdms2dd\u001B[0m\u001B[0;34m(\u001B[0m\u001B[0;34m'23°06’12,48”S'\u001B[0m\u001B[0;34m)\u001B[0m\u001B[0;34m\u001B[0m\u001B[0;34m\u001B[0m\u001B[0m\n\u001B[0m",
      "\u001B[0;31mAttributeError\u001B[0m: module 'traquitanas.geo' has no attribute 'converts'"
     ]
    }
   ],
   "source": [
    "geo.converts.dms2dd('23°06’12,48”S')"
   ],
   "metadata": {
    "collapsed": false,
    "pycharm": {
     "name": "#%%\n"
    }
   }
  },
  {
   "cell_type": "code",
   "execution_count": null,
   "outputs": [],
   "source": [
    "#import traquitanas.geo.converts"
   ],
   "metadata": {
    "collapsed": false,
    "pycharm": {
     "name": "#%%\n"
    }
   }
  },
  {
   "cell_type": "markdown",
   "source": [
    "<br>\n",
    "\n",
    "## Geo"
   ],
   "metadata": {
    "collapsed": false
   }
  },
  {
   "cell_type": "code",
   "execution_count": 15,
   "outputs": [
    {
     "data": {
      "text/plain": "-22.231111111111108"
     },
     "execution_count": 15,
     "metadata": {},
     "output_type": "execute_result"
    }
   ],
   "source": [
    "from traquitanas import geo\n",
    "\n",
    "geo.converts.dms2dd('23°06’12,48”S')\n",
    "geo.converts.dms2dd_infoaguas('22 13 52')"
   ],
   "metadata": {
    "collapsed": false,
    "pycharm": {
     "name": "#%%\n"
    }
   }
  },
  {
   "cell_type": "markdown",
   "source": [
    "<br>\n",
    "\n",
    "## Utils"
   ],
   "metadata": {
    "collapsed": false
   }
  },
  {
   "cell_type": "code",
   "execution_count": 14,
   "outputs": [
    {
     "ename": "TypeError",
     "evalue": "predict_encoding() missing 1 required positional argument: 'file_path'",
     "output_type": "error",
     "traceback": [
      "\u001B[0;31m---------------------------------------------------------------------------\u001B[0m",
      "\u001B[0;31mTypeError\u001B[0m                                 Traceback (most recent call last)",
      "\u001B[0;32m/tmp/ipykernel_126609/2632094487.py\u001B[0m in \u001B[0;36m<module>\u001B[0;34m\u001B[0m\n\u001B[1;32m      1\u001B[0m \u001B[0;32mfrom\u001B[0m \u001B[0mtraquitanas\u001B[0m \u001B[0;32mimport\u001B[0m \u001B[0mutils\u001B[0m \u001B[0;32mas\u001B[0m \u001B[0mtt\u001B[0m\u001B[0;34m\u001B[0m\u001B[0;34m\u001B[0m\u001B[0m\n\u001B[1;32m      2\u001B[0m \u001B[0;34m\u001B[0m\u001B[0m\n\u001B[0;32m----> 3\u001B[0;31m \u001B[0mtt\u001B[0m\u001B[0;34m.\u001B[0m\u001B[0mpredict_encoding\u001B[0m\u001B[0;34m(\u001B[0m\u001B[0;34m)\u001B[0m\u001B[0;34m\u001B[0m\u001B[0;34m\u001B[0m\u001B[0m\n\u001B[0m",
      "\u001B[0;31mTypeError\u001B[0m: predict_encoding() missing 1 required positional argument: 'file_path'"
     ]
    }
   ],
   "source": [
    "from traquitanas import utils as tt\n",
    "\n",
    "tt.predict_encoding()"
   ],
   "metadata": {
    "collapsed": false,
    "pycharm": {
     "name": "#%%\n"
    }
   }
  },
  {
   "cell_type": "code",
   "execution_count": null,
   "outputs": [],
   "source": [],
   "metadata": {
    "collapsed": false,
    "pycharm": {
     "name": "#%%\n"
    }
   }
  }
 ],
 "metadata": {
  "celltoolbar": "Tags",
  "interpreter": {
   "hash": "d4181b5ba52a8e4a66a816197e9f0b08db8a6f69ae1df649a595f0f30665110e"
  },
  "kernelspec": {
   "display_name": "Python 3 (ipykernel)",
   "language": "python",
   "name": "python3"
  },
  "language_info": {
   "codemirror_mode": {
    "name": "ipython",
    "version": 3
   },
   "file_extension": ".py",
   "mimetype": "text/x-python",
   "name": "python",
   "nbconvert_exporter": "python",
   "pygments_lexer": "ipython3",
   "version": "3.9.7"
  },
  "toc": {
   "base_numbering": 1,
   "nav_menu": {},
   "number_sections": true,
   "sideBar": true,
   "skip_h1_title": false,
   "title_cell": "Table of Contents",
   "title_sidebar": "Contents",
   "toc_cell": false,
   "toc_position": {
    "height": "calc(100% - 180px)",
    "left": "10px",
    "top": "150px",
    "width": "373.6px"
   },
   "toc_section_display": true,
   "toc_window_display": true
  }
 },
 "nbformat": 4,
 "nbformat_minor": 4
}