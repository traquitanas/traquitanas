{
 "cells": [
  {
   "cell_type": "markdown",
   "metadata": {},
   "source": [
    "<br>\n",
    "\n",
    "# Introdução\n"
   ]
  },
  {
   "cell_type": "code",
   "execution_count": 1,
   "metadata": {},
   "outputs": [
    {
     "name": "stdout",
     "output_type": "stream",
     "text": [
      "Requirement already satisfied: traquitanas in c:\\users\\michelsilva\\documents\\apps\\miniconda\\envs\\pablocarreira-lastest\\lib\\site-packages (1.0.53)\n",
      "Requirement already satisfied: folium>=0.12.0 in c:\\users\\michelsilva\\documents\\apps\\miniconda\\envs\\pablocarreira-lastest\\lib\\site-packages (from traquitanas) (0.13.0)\n",
      "Requirement already satisfied: click>=8.0.0 in c:\\users\\michelsilva\\documents\\apps\\miniconda\\envs\\pablocarreira-lastest\\lib\\site-packages (from traquitanas) (8.1.3)\n",
      "Requirement already satisfied: setuptools>=58.2.0 in c:\\users\\michelsilva\\documents\\apps\\miniconda\\envs\\pablocarreira-lastest\\lib\\site-packages (from traquitanas) (65.5.1)\n",
      "Requirement already satisfied: selenium>=4.4.0 in c:\\users\\michelsilva\\documents\\apps\\miniconda\\envs\\pablocarreira-lastest\\lib\\site-packages (from traquitanas) (4.6.1)\n",
      "Requirement already satisfied: requests>=2.25.0 in c:\\users\\michelsilva\\documents\\apps\\miniconda\\envs\\pablocarreira-lastest\\lib\\site-packages (from traquitanas) (2.28.1)\n",
      "Requirement already satisfied: pycep-correios in c:\\users\\michelsilva\\documents\\apps\\miniconda\\envs\\pablocarreira-lastest\\lib\\site-packages (from traquitanas) (5.1.0)\n",
      "Requirement already satisfied: chardet>=4.0.0 in c:\\users\\michelsilva\\documents\\apps\\miniconda\\envs\\pablocarreira-lastest\\lib\\site-packages (from traquitanas) (5.0.0)\n",
      "Requirement already satisfied: tqdm>=4.50.0 in c:\\users\\michelsilva\\documents\\apps\\miniconda\\envs\\pablocarreira-lastest\\lib\\site-packages (from traquitanas) (4.64.1)\n",
      "Requirement already satisfied: colorama in c:\\users\\michelsilva\\documents\\apps\\miniconda\\envs\\pablocarreira-lastest\\lib\\site-packages (from click>=8.0.0->traquitanas) (0.4.6)\n",
      "Requirement already satisfied: branca>=0.3.0 in c:\\users\\michelsilva\\documents\\apps\\miniconda\\envs\\pablocarreira-lastest\\lib\\site-packages (from folium>=0.12.0->traquitanas) (0.6.0)\n",
      "Requirement already satisfied: numpy in c:\\users\\michelsilva\\documents\\apps\\miniconda\\envs\\pablocarreira-lastest\\lib\\site-packages (from folium>=0.12.0->traquitanas) (1.23.4)\n",
      "Requirement already satisfied: jinja2>=2.9 in c:\\users\\michelsilva\\documents\\apps\\miniconda\\envs\\pablocarreira-lastest\\lib\\site-packages (from folium>=0.12.0->traquitanas) (3.1.2)\n",
      "Requirement already satisfied: certifi>=2017.4.17 in c:\\users\\michelsilva\\documents\\apps\\miniconda\\envs\\pablocarreira-lastest\\lib\\site-packages (from requests>=2.25.0->traquitanas) (2022.9.24)\n",
      "Requirement already satisfied: idna<4,>=2.5 in c:\\users\\michelsilva\\documents\\apps\\miniconda\\envs\\pablocarreira-lastest\\lib\\site-packages (from requests>=2.25.0->traquitanas) (3.4)\n",
      "Requirement already satisfied: urllib3<1.27,>=1.21.1 in c:\\users\\michelsilva\\documents\\apps\\miniconda\\envs\\pablocarreira-lastest\\lib\\site-packages (from requests>=2.25.0->traquitanas) (1.26.11)\n",
      "Requirement already satisfied: charset-normalizer<3,>=2 in c:\\users\\michelsilva\\documents\\apps\\miniconda\\envs\\pablocarreira-lastest\\lib\\site-packages (from requests>=2.25.0->traquitanas) (2.1.1)\n",
      "Requirement already satisfied: trio-websocket~=0.9 in c:\\users\\michelsilva\\documents\\apps\\miniconda\\envs\\pablocarreira-lastest\\lib\\site-packages (from selenium>=4.4.0->traquitanas) (0.9.2)\n",
      "Requirement already satisfied: trio~=0.17 in c:\\users\\michelsilva\\documents\\apps\\miniconda\\envs\\pablocarreira-lastest\\lib\\site-packages (from selenium>=4.4.0->traquitanas) (0.22.0)\n",
      "Requirement already satisfied: zeep>=2.0.0 in c:\\users\\michelsilva\\documents\\apps\\miniconda\\envs\\pablocarreira-lastest\\lib\\site-packages (from pycep-correios->traquitanas) (4.2.1)\n",
      "Requirement already satisfied: MarkupSafe>=2.0 in c:\\users\\michelsilva\\documents\\apps\\miniconda\\envs\\pablocarreira-lastest\\lib\\site-packages (from jinja2>=2.9->folium>=0.12.0->traquitanas) (2.1.1)\n",
      "Requirement already satisfied: exceptiongroup>=1.0.0rc9 in c:\\users\\michelsilva\\documents\\apps\\miniconda\\envs\\pablocarreira-lastest\\lib\\site-packages (from trio~=0.17->selenium>=4.4.0->traquitanas) (1.0.4)\n",
      "Requirement already satisfied: async-generator>=1.9 in c:\\users\\michelsilva\\documents\\apps\\miniconda\\envs\\pablocarreira-lastest\\lib\\site-packages (from trio~=0.17->selenium>=4.4.0->traquitanas) (1.10)\n",
      "Requirement already satisfied: sniffio in c:\\users\\michelsilva\\documents\\apps\\miniconda\\envs\\pablocarreira-lastest\\lib\\site-packages (from trio~=0.17->selenium>=4.4.0->traquitanas) (1.3.0)\n",
      "Requirement already satisfied: outcome in c:\\users\\michelsilva\\documents\\apps\\miniconda\\envs\\pablocarreira-lastest\\lib\\site-packages (from trio~=0.17->selenium>=4.4.0->traquitanas) (1.2.0)\n",
      "Requirement already satisfied: sortedcontainers in c:\\users\\michelsilva\\documents\\apps\\miniconda\\envs\\pablocarreira-lastest\\lib\\site-packages (from trio~=0.17->selenium>=4.4.0->traquitanas) (2.4.0)\n",
      "Requirement already satisfied: attrs>=19.2.0 in c:\\users\\michelsilva\\documents\\apps\\miniconda\\envs\\pablocarreira-lastest\\lib\\site-packages (from trio~=0.17->selenium>=4.4.0->traquitanas) (22.1.0)\n",
      "Requirement already satisfied: cffi>=1.14 in c:\\users\\michelsilva\\documents\\apps\\miniconda\\envs\\pablocarreira-lastest\\lib\\site-packages (from trio~=0.17->selenium>=4.4.0->traquitanas) (1.15.1)\n",
      "Requirement already satisfied: wsproto>=0.14 in c:\\users\\michelsilva\\documents\\apps\\miniconda\\envs\\pablocarreira-lastest\\lib\\site-packages (from trio-websocket~=0.9->selenium>=4.4.0->traquitanas) (1.2.0)\n",
      "Requirement already satisfied: PySocks!=1.5.7,<2.0,>=1.5.6 in c:\\users\\michelsilva\\documents\\apps\\miniconda\\envs\\pablocarreira-lastest\\lib\\site-packages (from urllib3<1.27,>=1.21.1->requests>=2.25.0->traquitanas) (1.7.1)\n",
      "Requirement already satisfied: requests-toolbelt>=0.7.1 in c:\\users\\michelsilva\\documents\\apps\\miniconda\\envs\\pablocarreira-lastest\\lib\\site-packages (from zeep>=2.0.0->pycep-correios->traquitanas) (0.10.1)\n",
      "Requirement already satisfied: isodate>=0.5.4 in c:\\users\\michelsilva\\documents\\apps\\miniconda\\envs\\pablocarreira-lastest\\lib\\site-packages (from zeep>=2.0.0->pycep-correios->traquitanas) (0.6.1)\n",
      "Requirement already satisfied: pytz in c:\\users\\michelsilva\\documents\\apps\\miniconda\\envs\\pablocarreira-lastest\\lib\\site-packages (from zeep>=2.0.0->pycep-correios->traquitanas) (2022.6)\n",
      "Requirement already satisfied: platformdirs>=1.4.0 in c:\\users\\michelsilva\\documents\\apps\\miniconda\\envs\\pablocarreira-lastest\\lib\\site-packages (from zeep>=2.0.0->pycep-correios->traquitanas) (2.5.2)\n",
      "Requirement already satisfied: requests-file>=1.5.1 in c:\\users\\michelsilva\\documents\\apps\\miniconda\\envs\\pablocarreira-lastest\\lib\\site-packages (from zeep>=2.0.0->pycep-correios->traquitanas) (1.5.1)\n",
      "Requirement already satisfied: lxml>=4.6.0 in c:\\users\\michelsilva\\documents\\apps\\miniconda\\envs\\pablocarreira-lastest\\lib\\site-packages (from zeep>=2.0.0->pycep-correios->traquitanas) (4.9.1)\n",
      "Requirement already satisfied: pycparser in c:\\users\\michelsilva\\documents\\apps\\miniconda\\envs\\pablocarreira-lastest\\lib\\site-packages (from cffi>=1.14->trio~=0.17->selenium>=4.4.0->traquitanas) (2.21)\n",
      "Requirement already satisfied: six in c:\\users\\michelsilva\\documents\\apps\\miniconda\\envs\\pablocarreira-lastest\\lib\\site-packages (from isodate>=0.5.4->zeep>=2.0.0->pycep-correios->traquitanas) (1.16.0)\n",
      "Requirement already satisfied: h11<1,>=0.9.0 in c:\\users\\michelsilva\\documents\\apps\\miniconda\\envs\\pablocarreira-lastest\\lib\\site-packages (from wsproto>=0.14->trio-websocket~=0.9->selenium>=4.4.0->traquitanas) (0.14.0)\n"
     ]
    }
   ],
   "source": [
    "!pip3 install traquitanas --upgrade"
   ]
  },
  {
   "cell_type": "code",
   "execution_count": 2,
   "metadata": {},
   "outputs": [],
   "source": [
    "import sys\n",
    "from pathlib import Path\n",
    "\n",
    "project_path = Path('.').absolute().parents[0]\n",
    "scrapping_path = project_path / 'traquitanas' / 'scrapping'\n",
    "\n",
    "sys.path.append(scrapping_path.as_posix())\n",
    "from paths import adds_path, driver_path, logs_path"
   ]
  },
  {
   "cell_type": "code",
   "execution_count": 5,
   "metadata": {},
   "outputs": [],
   "source": [
    "import time\n",
    "\n",
    "from selenium import webdriver\n",
    "from selenium.webdriver.firefox.options import Options as FirefoxOptions\n",
    "from selenium.webdriver.firefox.service import Service as FirefoxService\n",
    "\n",
    "from traquitanas.scrapping import adds, gecko"
   ]
  },
  {
   "cell_type": "code",
   "execution_count": 6,
   "metadata": {},
   "outputs": [
    {
     "data": {
      "text/plain": [
       "'4.6.1'"
      ]
     },
     "execution_count": 6,
     "metadata": {},
     "output_type": "execute_result"
    }
   ],
   "source": [
    "import selenium\n",
    "selenium.__version__"
   ]
  },
  {
   "cell_type": "code",
   "execution_count": 10,
   "metadata": {},
   "outputs": [
    {
     "ename": "ImportError",
     "evalue": "cannot import name 'Driver' from 'traquitanas.scrapping' (c:\\Users\\michelsilva\\Documents\\Apps\\Miniconda\\envs\\pablocarreira-lastest\\lib\\site-packages\\traquitanas\\scrapping\\__init__.py)",
     "output_type": "error",
     "traceback": [
      "\u001b[1;31m---------------------------------------------------------------------------\u001b[0m",
      "\u001b[1;31mImportError\u001b[0m                               Traceback (most recent call last)",
      "Cell \u001b[1;32mIn [10], line 1\u001b[0m\n\u001b[1;32m----> 1\u001b[0m \u001b[39mfrom\u001b[39;00m \u001b[39mtraquitanas\u001b[39;00m \u001b[39mimport\u001b[39;00m scrapping\n",
      "File \u001b[1;32mc:\\Users\\michelsilva\\Documents\\Apps\\Miniconda\\envs\\pablocarreira-lastest\\lib\\site-packages\\traquitanas\\__init__.py:10\u001b[0m\n\u001b[0;32m      1\u001b[0m \u001b[39m\"\"\"\u001b[39;00m\n\u001b[0;32m      2\u001b[0m \u001b[39mUsed when import all\u001b[39;00m\n\u001b[0;32m      3\u001b[0m \u001b[39mExample: from traquitanas import *\u001b[39;00m\n\u001b[1;32m   (...)\u001b[0m\n\u001b[0;32m      6\u001b[0m \n\u001b[0;32m      7\u001b[0m \u001b[39m\"\"\"\u001b[39;00m\n\u001b[0;32m      9\u001b[0m \u001b[39mfrom\u001b[39;00m \u001b[39mtraquitanas\u001b[39;00m\u001b[39m.\u001b[39;00m\u001b[39mnet\u001b[39;00m \u001b[39mimport\u001b[39;00m downloads\n\u001b[1;32m---> 10\u001b[0m \u001b[39mfrom\u001b[39;00m \u001b[39mtraquitanas\u001b[39;00m\u001b[39m.\u001b[39;00m\u001b[39mscrapping\u001b[39;00m \u001b[39mimport\u001b[39;00m Driver, adds, gecko, scrapping\n\u001b[0;32m     12\u001b[0m \u001b[39m# Net\u001b[39;00m\n\u001b[0;32m     13\u001b[0m __all__ \u001b[39m=\u001b[39m [\u001b[39m'\u001b[39m\u001b[39mdownloads\u001b[39m\u001b[39m'\u001b[39m, \u001b[39m'\u001b[39m\u001b[39mscrapping\u001b[39m\u001b[39m'\u001b[39m, \u001b[39m'\u001b[39m\u001b[39mgecko\u001b[39m\u001b[39m'\u001b[39m, \u001b[39m'\u001b[39m\u001b[39madds\u001b[39m\u001b[39m'\u001b[39m, \u001b[39m'\u001b[39m\u001b[39mDriver\u001b[39m\u001b[39m'\u001b[39m]\n",
      "\u001b[1;31mImportError\u001b[0m: cannot import name 'Driver' from 'traquitanas.scrapping' (c:\\Users\\michelsilva\\Documents\\Apps\\Miniconda\\envs\\pablocarreira-lastest\\lib\\site-packages\\traquitanas\\scrapping\\__init__.py)"
     ]
    }
   ],
   "source": [
    "from traquitanas import scrapping"
   ]
  },
  {
   "cell_type": "code",
   "execution_count": null,
   "metadata": {},
   "outputs": [],
   "source": [
    "def create_driver(\n",
    "    download_path,\n",
    "    headless=False,\n",
    "    adds_path=os.path.join('..', 'adds'),\n",
    "    log_path=os.path.join('..', 'logs'),\n",
    "):"
   ]
  },
  {
   "cell_type": "markdown",
   "metadata": {},
   "source": [
    "<br>\n",
    "\n",
    "## DD"
   ]
  },
  {
   "cell_type": "code",
   "execution_count": 7,
   "metadata": {},
   "outputs": [
    {
     "name": "stdout",
     "output_type": "stream",
     "text": [
      "Geckodriver already in c:\\Users\\michelsilva\\Codes\\open_traquitanas\\traquitanas\\scrapy\\driver\n"
     ]
    }
   ],
   "source": [
    "# Services\n",
    "gecko_path = gecko.get_path_geckodriver(driver_path)\n",
    "\n",
    "# Logs\n",
    "logs_filepath = logs_path / 'geckodriver.log'\n",
    "\n",
    "# Services\n",
    "service = FirefoxService(executable_path=gecko_path, log_path=logs_filepath)\n",
    "\n",
    "# Options\n",
    "options = FirefoxOptions()\n",
    "options.headless = False\n",
    "options.set_preference('intl.accept_languages', 'pt-BR, pt')\n",
    "\n",
    "# Driver\n",
    "driver = webdriver.Firefox(service=service, options=options)\n",
    "driver.get('https://github.com/')\n",
    "driver.maximize_window()\n",
    "\n",
    "# Close Connection\n",
    "time.sleep(2)\n",
    "driver.quit()\n"
   ]
  },
  {
   "cell_type": "markdown",
   "metadata": {},
   "source": [
    "<br>\n",
    "\n",
    "## Classe"
   ]
  },
  {
   "cell_type": "code",
   "execution_count": null,
   "metadata": {},
   "outputs": [],
   "source": [
    "gecko.Driver(\n",
    "    my_driver_path=driver_path,\n",
    "    my_logs_path=logs_path,\n",
    "    verify_ssl=False,\n",
    "  )"
   ]
  },
  {
   "cell_type": "markdown",
   "metadata": {},
   "source": [
    "<br>\n",
    "\n",
    "## dddd"
   ]
  },
  {
   "cell_type": "code",
   "execution_count": null,
   "metadata": {},
   "outputs": [],
   "source": []
  },
  {
   "cell_type": "code",
   "execution_count": null,
   "metadata": {},
   "outputs": [],
   "source": []
  },
  {
   "cell_type": "code",
   "execution_count": null,
   "metadata": {},
   "outputs": [],
   "source": []
  },
  {
   "cell_type": "code",
   "execution_count": null,
   "metadata": {},
   "outputs": [],
   "source": [
    "class Driver:\n",
    "    def __init__(self, driver_path, logs_path, adds_path):\n",
    "        # Services\n",
    "        gecko_path = gecko.get_path_geckodriver(driver_path, verify_ssl=True)\n",
    "\n",
    "        # Logs\n",
    "        logs_filepath = logs_path / 'geckodriver.log'\n",
    "\n",
    "        # Services\n",
    "        service = FirefoxService(\n",
    "            executable_path=gecko_path, log_path=logs_filepath\n",
    "        )\n",
    "\n",
    "        # Options\n",
    "        options = FirefoxOptions()\n",
    "        options.headless = False\n",
    "        options.set_preference('intl.accept_languages', 'pt-BR, pt')\n",
    "\n",
    "        # Driver\n",
    "        self.driver = webdriver.Firefox(service=service, options=options)\n",
    "        #self.driver = adds.add_extension_xpath(self.driver, adds_path)\n",
    "        self.driver.maximize_window()\n",
    "\n",
    "    def login(self):\n",
    "        # Get URL\n",
    "        self.driver.get('https://github.com/')\n",
    "    \n",
    "    def quit(self):\n",
    "        self.driver.quit()"
   ]
  },
  {
   "cell_type": "code",
   "execution_count": null,
   "metadata": {},
   "outputs": [],
   "source": [
    "# Cria Driver\n",
    "page = Driver(driver_path, logs_path, adds_path)\n",
    "\n",
    "# Acessar Site\n",
    "page.login()\n",
    "\n",
    "# Close Connection\n",
    "time.sleep(4)\n",
    "page.quit()"
   ]
  },
  {
   "cell_type": "markdown",
   "metadata": {},
   "source": [
    "<br>\n",
    "\n",
    "## Classe Importada"
   ]
  },
  {
   "cell_type": "code",
   "execution_count": 8,
   "metadata": {},
   "outputs": [
    {
     "ename": "ModuleNotFoundError",
     "evalue": "No module named 'selenium_class'",
     "output_type": "error",
     "traceback": [
      "\u001b[1;31m---------------------------------------------------------------------------\u001b[0m",
      "\u001b[1;31mModuleNotFoundError\u001b[0m                       Traceback (most recent call last)",
      "Cell \u001b[1;32mIn [8], line 1\u001b[0m\n\u001b[1;32m----> 1\u001b[0m \u001b[39mfrom\u001b[39;00m \u001b[39mselenium_class\u001b[39;00m \u001b[39mimport\u001b[39;00m Driver2\n\u001b[0;32m      3\u001b[0m \u001b[39m# Cria Driver\u001b[39;00m\n\u001b[0;32m      4\u001b[0m page \u001b[39m=\u001b[39m Driver2(driver_path, logs_path, adds_path)\n",
      "\u001b[1;31mModuleNotFoundError\u001b[0m: No module named 'selenium_class'"
     ]
    }
   ],
   "source": [
    "from selenium_class import Driver2\n",
    "\n",
    "# Cria Driver\n",
    "page = Driver2(driver_path, logs_path, adds_path)\n",
    "\n",
    "# Acessar Site\n",
    "page.login()\n",
    "\n",
    "# Close Connection\n",
    "time.sleep(4)\n",
    "page.quit()"
   ]
  },
  {
   "cell_type": "code",
   "execution_count": null,
   "metadata": {},
   "outputs": [],
   "source": []
  }
 ],
 "metadata": {
  "kernelspec": {
   "display_name": "Python 3.10.6 ('pablocarreira-lastest')",
   "language": "python",
   "name": "python3"
  },
  "language_info": {
   "codemirror_mode": {
    "name": "ipython",
    "version": 3
   },
   "file_extension": ".py",
   "mimetype": "text/x-python",
   "name": "python",
   "nbconvert_exporter": "python",
   "pygments_lexer": "ipython3",
   "version": "3.10.6"
  },
  "orig_nbformat": 4,
  "vscode": {
   "interpreter": {
    "hash": "4d2082c677fdf35794c222228cc7f22d43df5b8d8a9da3c3f9d9c2f356a8965c"
   }
  }
 },
 "nbformat": 4,
 "nbformat_minor": 2
}
