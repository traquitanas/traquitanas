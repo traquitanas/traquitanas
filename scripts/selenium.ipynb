{
 "cells": [
  {
   "cell_type": "markdown",
   "metadata": {},
   "source": [
    "<br>\n",
    "\n",
    "# Introdução\n"
   ]
  },
  {
   "cell_type": "code",
   "execution_count": null,
   "metadata": {},
   "outputs": [],
   "source": [
    "import sys\n",
    "from pathlib import Path\n",
    "\n",
    "project_path = Path('.').absolute().parents[0]\n",
    "scrapping_path = project_path / 'traquitanas' / 'scrapping'\n",
    "\n",
    "sys.path.append(scrapping_path.as_posix())\n",
    "from paths import adds_path, driver_path, logs_path"
   ]
  },
  {
   "cell_type": "code",
   "execution_count": null,
   "metadata": {},
   "outputs": [],
   "source": [
    "import time\n",
    "\n",
    "from selenium import webdriver\n",
    "from selenium.webdriver.firefox.options import Options as FirefoxOptions\n",
    "from selenium.webdriver.firefox.service import Service as FirefoxService\n",
    "\n",
    "from traquitanas.scrapping import adds, gecko"
   ]
  },
  {
   "cell_type": "code",
   "execution_count": null,
   "metadata": {},
   "outputs": [],
   "source": [
    "import selenium\n",
    "selenium.__version__"
   ]
  },
  {
   "cell_type": "code",
   "execution_count": null,
   "metadata": {},
   "outputs": [],
   "source": [
    "# Services\n",
    "gecko_path = gecko.get_path_geckodriver(driver_path)\n",
    "\n",
    "# Logs\n",
    "logs_filepath = logs_path / 'geckodriver.log'\n",
    "\n",
    "# Services\n",
    "service = FirefoxService(executable_path=gecko_path, log_path=logs_filepath)\n",
    "\n",
    "# Options\n",
    "options = FirefoxOptions()\n",
    "options.headless = False\n",
    "options.set_preference('intl.accept_languages', 'pt-BR, pt')\n",
    "\n",
    "# Driver\n",
    "driver = webdriver.Firefox(service=service, options=options)\n",
    "driver.get('https://github.com/')\n",
    "driver.maximize_window()\n",
    "\n",
    "# Close Connection\n",
    "time.sleep(4)\n",
    "driver.quit()\n"
   ]
  },
  {
   "cell_type": "markdown",
   "metadata": {},
   "source": [
    "<br>\n",
    "\n",
    "## Classe"
   ]
  },
  {
   "cell_type": "code",
   "execution_count": null,
   "metadata": {},
   "outputs": [],
   "source": [
    "class Driver:\n",
    "    def __init__(self, driver_path, logs_path, adds_path):\n",
    "        # Services\n",
    "        gecko_path = gecko.get_path_geckodriver(driver_path, verify_ssl=True)\n",
    "\n",
    "        # Logs\n",
    "        logs_filepath = logs_path / 'geckodriver.log'\n",
    "\n",
    "        # Services\n",
    "        service = FirefoxService(\n",
    "            executable_path=gecko_path, log_path=logs_filepath\n",
    "        )\n",
    "\n",
    "        # Options\n",
    "        options = FirefoxOptions()\n",
    "        options.headless = False\n",
    "        options.set_preference('intl.accept_languages', 'pt-BR, pt')\n",
    "\n",
    "        # Driver\n",
    "        self.driver = webdriver.Firefox(service=service, options=options)\n",
    "        #self.driver = adds.add_extension_xpath(self.driver, adds_path)\n",
    "        self.driver.maximize_window()\n",
    "\n",
    "    def login(self):\n",
    "        # Get URL\n",
    "        self.driver.get('https://github.com/')\n",
    "    \n",
    "    def quit(self):\n",
    "        self.driver.quit()"
   ]
  },
  {
   "cell_type": "code",
   "execution_count": null,
   "metadata": {},
   "outputs": [],
   "source": [
    "# Cria Driver\n",
    "page = Driver(driver_path, logs_path, adds_path)\n",
    "\n",
    "# Acessar Site\n",
    "page.login()\n",
    "\n",
    "# Close Connection\n",
    "time.sleep(4)\n",
    "page.quit()"
   ]
  },
  {
   "cell_type": "markdown",
   "metadata": {},
   "source": [
    "<br>\n",
    "\n",
    "## Classe Importada"
   ]
  },
  {
   "cell_type": "code",
   "execution_count": null,
   "metadata": {},
   "outputs": [],
   "source": [
    "from selenium_class import Driver2\n",
    "\n",
    "# Cria Driver\n",
    "page = Driver2(driver_path, logs_path, adds_path)\n",
    "\n",
    "# Acessar Site\n",
    "page.login()\n",
    "\n",
    "# Close Connection\n",
    "time.sleep(4)\n",
    "page.quit()"
   ]
  },
  {
   "cell_type": "code",
   "execution_count": null,
   "metadata": {},
   "outputs": [],
   "source": []
  }
 ],
 "metadata": {
  "kernelspec": {
   "display_name": "Python 3.10.6 ('pablocarreira-lastest')",
   "language": "python",
   "name": "python3"
  },
  "language_info": {
   "codemirror_mode": {
    "name": "ipython",
    "version": 3
   },
   "file_extension": ".py",
   "mimetype": "text/x-python",
   "name": "python",
   "nbconvert_exporter": "python",
   "pygments_lexer": "ipython3",
   "version": "3.10.6"
  },
  "vscode": {
   "interpreter": {
    "hash": "4d2082c677fdf35794c222228cc7f22d43df5b8d8a9da3c3f9d9c2f356a8965c"
   }
  }
 },
 "nbformat": 4,
 "nbformat_minor": 2
}
