{
 "cells": [
  {
   "cell_type": "markdown",
   "id": "003bdb10",
   "metadata": {
    "pycharm": {
     "name": "#%% md\n"
    }
   },
   "source": [
    "<br>\n",
    "\n",
    "# Endereços Aleatórios"
   ]
  },
  {
   "cell_type": "markdown",
   "id": "73b04e60",
   "metadata": {
    "pycharm": {
     "name": "#%% md\n"
    }
   },
   "source": [
    "<br>\n",
    "\n",
    "## PyCEP\n",
    "\n",
    "O projeto [PyCEP](https://pypi.org/project/pycep-correios/) possibilita pesquisar CEPs e retornar o lougradouro que representa aquele CEP.\n",
    "\n",
    "Projeto bastante difundido na *internet*, porém ainda não possibilita **pegar faixas de CEP de uma cidade específica**."
   ]
  },
  {
   "cell_type": "code",
   "execution_count": null,
   "id": "f9353ab8",
   "metadata": {
    "pycharm": {
     "name": "#%%\n"
    }
   },
   "outputs": [],
   "source": [
    "#!pip3 install pycep-correios --upgrade"
   ]
  },
  {
   "cell_type": "code",
   "execution_count": null,
   "id": "03c17ad9",
   "metadata": {
    "pycharm": {
     "name": "#%%\n"
    }
   },
   "outputs": [],
   "source": [
    "from pycep_correios import get_address_from_cep, WebService"
   ]
  },
  {
   "cell_type": "code",
   "execution_count": null,
   "id": "0f44b6b5",
   "metadata": {
    "pycharm": {
     "name": "#%%\n"
    }
   },
   "outputs": [],
   "source": [
    "cep = '13416-398'\n",
    "\n",
    "get_address_from_cep(cep, webservice=WebService.APICEP)"
   ]
  },
  {
   "cell_type": "code",
   "execution_count": null,
   "id": "be358694",
   "metadata": {
    "pycharm": {
     "name": "#%%\n"
    }
   },
   "outputs": [],
   "source": [
    "get_address_from_cep(cep, webservice=WebService.VIACEP)"
   ]
  },
  {
   "cell_type": "code",
   "execution_count": null,
   "id": "37ca4b60",
   "metadata": {
    "pycharm": {
     "name": "#%%\n"
    }
   },
   "outputs": [],
   "source": [
    "get_address_from_cep(cep, webservice=WebService.CORREIOS)"
   ]
  },
  {
   "cell_type": "markdown",
   "id": "42aa760d",
   "metadata": {
    "pycharm": {
     "name": "#%% md\n"
    }
   },
   "source": [
    "<br>\n",
    "\n",
    "## ViaCEP\n",
    "\n",
    "O PyCEP, mencionado acima, utiliza a API do [ViaCEP](https://viacep.com.br/) que apresenta diversas funcionalidades a serem pesquisadas (a dos DDD me interessou bastante!).\n",
    "\n",
    "Há uma ferramenta que achei interessante e \"quase\" me atende integralmente: trata-se da **Pesquisa de CEP**. Nela é possível inserir:\n",
    "1. Estado\n",
    "2. Município\n",
    "3. Algum termo para \"limitar\" a pesquisa, sendo esse o ponto que não queria."
   ]
  },
  {
   "cell_type": "code",
   "execution_count": null,
   "id": "5975f484",
   "metadata": {
    "pycharm": {
     "name": "#%%\n"
    }
   },
   "outputs": [],
   "source": [
    "# Um json do ViaCEP\n",
    "'https://viacep.com.br/ws/sp/piracicaba/rua/json/'"
   ]
  },
  {
   "cell_type": "markdown",
   "id": "d808355d",
   "metadata": {
    "pycharm": {
     "name": "#%% md\n"
    }
   },
   "source": [
    "<br>\n",
    "\n",
    "## Referências\n",
    "\n",
    "- [**Correios**: Faixa de CEP](https://buscacepinter.correios.com.br/app/faixa_cep_uf_localidade/index.php)\n",
    "- [**GitHub**: consulta_correios](https://github.com/arthurfortes/consulta_correios)\n",
    "- [**Medium**: Consultar Endereços e CEPs brasileiros utilizando python](https://fortes-arthur.medium.com/consultar-endereços-e-ceps-brasileiros-utilizando-python-9c8f14f4592)\n"
   ]
  },
  {
   "cell_type": "code",
   "execution_count": null,
   "id": "beb640a7",
   "metadata": {
    "pycharm": {
     "name": "#%%\n"
    }
   },
   "outputs": [],
   "source": []
  }
 ],
 "metadata": {
  "kernelspec": {
   "display_name": "Python 3.10.6 ('pablocarreira-lastest')",
   "language": "python",
   "name": "python3"
  },
  "language_info": {
   "codemirror_mode": {
    "name": "ipython",
    "version": 3
   },
   "file_extension": ".py",
   "mimetype": "text/x-python",
   "name": "python",
   "nbconvert_exporter": "python",
   "pygments_lexer": "ipython3",
   "version": "3.10.6"
  },
  "vscode": {
   "interpreter": {
    "hash": "4d2082c677fdf35794c222228cc7f22d43df5b8d8a9da3c3f9d9c2f356a8965c"
   }
  }
 },
 "nbformat": 4,
 "nbformat_minor": 5
}
